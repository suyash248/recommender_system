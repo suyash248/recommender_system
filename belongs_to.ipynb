{
 "cells": [
  {
   "cell_type": "code",
   "execution_count": null,
   "metadata": {},
   "outputs": [],
   "source": [
    "import os\n",
    "\n",
    "neo4j_config = {\n",
    "    \"password\": \"password\"\n",
    "}"
   ]
  },
  {
   "cell_type": "code",
   "execution_count": 6,
   "metadata": {},
   "outputs": [],
   "source": [
    "from copy import deepcopy\n",
    "import json\n",
    "import pprint\n",
    "pp = pprint.PrettyPrinter(depth=6)\n",
    "\n",
    "from py2neo import Graph\n",
    "neo4j_con = Graph(**neo4j_config)"
   ]
  },
  {
   "cell_type": "code",
   "execution_count": 34,
   "metadata": {},
   "outputs": [],
   "source": [
    "def get_recommendations(product_id):\n",
    "    query_incoming_prods = \"\"\"MATCH (p1:Product)-[r:BOUGHT_WITH]->(p2:Product) WHERE p2.product_id={product_id} \n",
    "                                AND p1.group=p2.group RETURN p1 ORDER BY p1.avg_rating DESC, toInteger(p1.salesrank)\n",
    "                                LIMIT 50\"\"\"\n",
    "    \n",
    "    query_outgoing_prods = \"\"\"MATCH (p1:Product)-[r:BOUGHT_WITH]->(p2:Product) WHERE p1.product_id={product_id} \n",
    "                                AND p1.group=p2.group RETURN p2 ORDER BY p2.avg_rating DESC, toInteger(p1.salesrank) \n",
    "                                LIMIT 50\"\"\"\n",
    "    \n",
    "    # Fetching incoming nodes TO p1. e.g. (p5, p6, p7) -> p1\n",
    "    # Belonging to same group(category) and sorted on the basis of `avg_rating` & 'salesrank'\n",
    "    cur = neo4j_con.run(query_incoming_prods, {\"product_id\": product_id})\n",
    "    incoming_prods_nodes = []\n",
    "    for node_tups in cur:\n",
    "        for node_tup in node_tups.values():\n",
    "            nodes_dict = {k: v for k, v in node_tup.iteritems()}\n",
    "            incoming_prods_nodes.append(nodes_dict)\n",
    "    \n",
    "    # Fetching outgoing nodes FROM p1. e.g. p1 -> (p2, p3)\n",
    "    # Belonging to same group(category) and sorted on the basis of `avg_rating` & 'salesrank'\n",
    "    cur = neo4j_con.run(query_outgoing_prods, {\"product_id\": product_id})\n",
    "    outgoing_prods_nodes = []\n",
    "    for node_tups in cur:\n",
    "        for node_tup in node_tups.values():\n",
    "            nodes_dict = {k: v for k, v in node_tup.iteritems()}\n",
    "            outgoing_prods_nodes.append(nodes_dict)\n",
    "    \n",
    "    return incoming_prods_nodes, outgoing_prods_nodes"
   ]
  },
  {
   "cell_type": "code",
   "execution_count": 35,
   "metadata": {},
   "outputs": [
    {
     "name": "stdout",
     "output_type": "stream",
     "text": [
      "For product with product_id = 70 Recommended products are - \n",
      "set([15, 421, 102, 103])\n"
     ]
    }
   ],
   "source": [
    "product_id = 70\n",
    "\n",
    "# Recommendations for product(product_id = 70)\n",
    "incoming_prods_nodes, outgoing_prods_nodes = get_recommendations(product_id)\n",
    "\n",
    "# Merging incoming & outgoing nodes. e.g. (p5, p6, p7) + (p2, p3)\n",
    "incoming_prods_nodes.extend(outgoing_prods_nodes)\n",
    "# print(incoming_prods_nodes)\n",
    "\n",
    "# Sorting the nodes on the basis of `avg_rating`.\n",
    "incoming_prods_nodes.sort(key=lambda prod: (-prod['avg_rating'], int(prod['salesrank'])))\n",
    "recommended_prod_ids = set(map(lambda prod: prod[\"product_id\"], incoming_prods_nodes))\n",
    "\n",
    "print(\"For product with product_id = {} Recommended products are - \\n{}\".format(product_id, recommended_prod_ids))\n",
    "# pp.pprint(incoming_prods_nodes)"
   ]
  },
  {
   "cell_type": "code",
   "execution_count": null,
   "metadata": {},
   "outputs": [],
   "source": []
  }
 ],
 "metadata": {
  "kernelspec": {
   "display_name": "Python3 (jrenv)",
   "language": "python",
   "name": "myenv"
  },
  "language_info": {
   "codemirror_mode": {
    "name": "ipython",
    "version": 2
   },
   "file_extension": ".py",
   "mimetype": "text/x-python",
   "name": "python",
   "nbconvert_exporter": "python",
   "pygments_lexer": "ipython2",
   "version": "2.7.10"
  }
 },
 "nbformat": 4,
 "nbformat_minor": 2
}
