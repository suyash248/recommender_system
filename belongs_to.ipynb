{
 "cells": [
  {
   "cell_type": "code",
   "execution_count": 6,
   "metadata": {},
   "outputs": [],
   "source": [
    "import os\n",
    "\n",
    "neo4j_config = {\n",
    "    \"password\": \"password\"\n",
    "}"
   ]
  },
  {
   "cell_type": "code",
   "execution_count": 55,
   "metadata": {},
   "outputs": [],
   "source": [
    "from copy import deepcopy\n",
    "import json\n",
    "import pprint\n",
    "pp = pprint.PrettyPrinter(depth=6)\n",
    "\n",
    "from py2neo import Graph\n",
    "neo4j_con = Graph(**neo4j_config)"
   ]
  },
  {
   "cell_type": "code",
   "execution_count": 70,
   "metadata": {},
   "outputs": [],
   "source": [
    "def get_recommendations(product_id):\n",
    "    query_incoming_prods = \"\"\"MATCH (p1:Product)-[r:BOUGHT_WITH]->(p2:Product) WHERE p2.product_id={product_id} \n",
    "                                AND p1.group=p2.group RETURN p1 ORDER BY p1.avg_rating DESC LIMIT 5\"\"\"\n",
    "    \n",
    "    query_outgoing_prods = \"\"\"MATCH (p1:Product)-[r:BOUGHT_WITH]->(p2:Product) WHERE p1.product_id={product_id} \n",
    "                                AND p1.group=p2.group RETURN p2 ORDER BY p2.avg_rating DESC LIMIT 5\"\"\"\n",
    "    \n",
    "    cur = neo4j_con.run(query_incoming_prods, {\"product_id\": product_id})\n",
    "    incoming_prods_nodes = []\n",
    "    for node_tups in cur:\n",
    "        for node_tup in node_tups.values():\n",
    "            nodes_dict = {k: v for k, v in node_tup.iteritems()}\n",
    "            incoming_prods_nodes.append(nodes_dict)\n",
    "    \n",
    "    cur = neo4j_con.run(query_outgoing_prods, {\"product_id\": product_id})\n",
    "    outgoing_prods_nodes = []\n",
    "    for node_tups in cur:\n",
    "        for node_tup in node_tups.values():\n",
    "            nodes_dict = {k: v for k, v in node_tup.iteritems()}\n",
    "            outgoing_prods_nodes.append(nodes_dict)\n",
    "    \n",
    "    return incoming_prods_nodes, outgoing_prods_nodes"
   ]
  },
  {
   "cell_type": "code",
   "execution_count": 83,
   "metadata": {},
   "outputs": [
    {
     "name": "stdout",
     "output_type": "stream",
     "text": [
      "Recommended products are - [5, 139, 137, 14289, 11699, 111931, 88582, 137]\n"
     ]
    }
   ],
   "source": [
    "incoming_prods_nodes, outgoing_prods_nodes = get_recommendations(10)\n",
    "incoming_prods_nodes.extend(outgoing_prods_nodes)\n",
    "# print(incoming_prods_nodes)\n",
    "incoming_prods_nodes.sort(key=lambda prod: prod['avg_rating'])\n",
    "prod_ids = map(lambda prod: prod[\"product_id\"], incoming_prods_nodes)\n",
    "print(\"Recommended products are - \" + str(prod_ids))"
   ]
  },
  {
   "cell_type": "code",
   "execution_count": null,
   "metadata": {},
   "outputs": [],
   "source": []
  }
 ],
 "metadata": {
  "kernelspec": {
   "display_name": "Python3 (jrenv)",
   "language": "python",
   "name": "myenv"
  },
  "language_info": {
   "codemirror_mode": {
    "name": "ipython",
    "version": 2
   },
   "file_extension": ".py",
   "mimetype": "text/x-python",
   "name": "python",
   "nbconvert_exporter": "python",
   "pygments_lexer": "ipython2",
   "version": "2.7.10"
  }
 },
 "nbformat": 4,
 "nbformat_minor": 2
}
